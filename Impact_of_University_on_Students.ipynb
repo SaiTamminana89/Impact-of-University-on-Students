{
  "nbformat": 4,
  "nbformat_minor": 0,
  "metadata": {
    "colab": {
      "private_outputs": true,
      "provenance": []
    },
    "kernelspec": {
      "name": "python3",
      "display_name": "Python 3"
    },
    "language_info": {
      "name": "python"
    }
  },
  "cells": [
    {
      "cell_type": "code",
      "execution_count": null,
      "metadata": {
        "id": "9NHHXG8vxS02"
      },
      "outputs": [],
      "source": [
        "# Importing the necessary packages\n",
        "import pandas as pd"
      ]
    },
    {
      "cell_type": "code",
      "source": [
        "def read_data(file_path):\n",
        "  data = pd.read_csv(file_path)\n",
        "  return data"
      ],
      "metadata": {
        "id": "V2Ktx0DatyuT"
      },
      "execution_count": null,
      "outputs": []
    },
    {
      "cell_type": "code",
      "source": [
        "data =read_data('/content/Preprocessed dataset.csv')"
      ],
      "metadata": {
        "id": "8GFjhM8_0dC6"
      },
      "execution_count": null,
      "outputs": []
    },
    {
      "cell_type": "code",
      "source": [
        "data.columns\n",
        "# columns present in the dataframe"
      ],
      "metadata": {
        "id": "N-SO0Ml10hbA"
      },
      "execution_count": null,
      "outputs": []
    },
    {
      "cell_type": "code",
      "source": [
        "# Dropping unecessary columns\n",
        "data = data.drop(columns=['Unnamed: 0'],axis=1)"
      ],
      "metadata": {
        "id": "R7pgifCA071l"
      },
      "execution_count": null,
      "outputs": []
    },
    {
      "cell_type": "code",
      "source": [
        "data.head(3)"
      ],
      "metadata": {
        "id": "UwvIthWI3vsl"
      },
      "execution_count": null,
      "outputs": []
    },
    {
      "cell_type": "code",
      "source": [
        "# getting dimensions of the data\n",
        "data.shape"
      ],
      "metadata": {
        "id": "CQmkK-vRuQE7"
      },
      "execution_count": null,
      "outputs": []
    },
    {
      "cell_type": "code",
      "source": [
        "# columns present in the dataset\n",
        "data.columns"
      ],
      "metadata": {
        "id": "asvcM5rV7H95"
      },
      "execution_count": null,
      "outputs": []
    },
    {
      "cell_type": "code",
      "source": [
        "# getting the information about the data\n",
        "data.info()"
      ],
      "metadata": {
        "id": "RRtmEUi61Kc1"
      },
      "execution_count": null,
      "outputs": []
    },
    {
      "cell_type": "code",
      "source": [
        "# Data types present in the column\n",
        "data.dtypes"
      ],
      "metadata": {
        "id": "n8_n1c0hDIdA"
      },
      "execution_count": null,
      "outputs": []
    },
    {
      "cell_type": "markdown",
      "source": [
        "# Data Preprocessing"
      ],
      "metadata": {
        "id": "IN5crMc0EwFi"
      }
    },
    {
      "cell_type": "markdown",
      "source": [
        "## data Cleaning"
      ],
      "metadata": {
        "id": "FhmcxVD7Dvwi"
      }
    },
    {
      "cell_type": "markdown",
      "source": [
        "checking for null values"
      ],
      "metadata": {
        "id": "aY2yGcsvJLnB"
      }
    },
    {
      "cell_type": "code",
      "source": [
        "# checking for null values present in the dataset\n",
        "data.isnull().sum()"
      ],
      "metadata": {
        "id": "i2YORZptEoO9"
      },
      "execution_count": null,
      "outputs": []
    },
    {
      "cell_type": "markdown",
      "source": [
        "duplicates"
      ],
      "metadata": {
        "id": "nxNUEy14E1jt"
      }
    },
    {
      "cell_type": "code",
      "source": [
        "# there are no duplicates present in the dataset\n",
        "data.duplicated().sum()"
      ],
      "metadata": {
        "id": "_PL4HtchEz6G"
      },
      "execution_count": null,
      "outputs": []
    },
    {
      "cell_type": "markdown",
      "source": [
        "Inconsistencies/Outliers in the dataset"
      ],
      "metadata": {
        "id": "n8fV5kXWFN7u"
      }
    },
    {
      "cell_type": "code",
      "source": [
        "data.head(10)\n",
        "# this dataset looks fine there is no inconsistencies present in the dataset"
      ],
      "metadata": {
        "id": "nr401uOEE_O_"
      },
      "execution_count": null,
      "outputs": []
    },
    {
      "cell_type": "code",
      "source": [
        "import matplotlib.pyplot as plt\n",
        "plt.boxplot(data[['Weight','Height','BMI']],labels = ['weight','Height','BMI'])\n",
        "plt.show()"
      ],
      "metadata": {
        "id": "7oqv_WEDFSFk"
      },
      "execution_count": null,
      "outputs": []
    },
    {
      "cell_type": "markdown",
      "source": [
        "Although there are outliers in the Weight and Height but those are Actual Values that was contributed by users"
      ],
      "metadata": {
        "id": "JXZI9tvjGdGd"
      }
    },
    {
      "cell_type": "markdown",
      "source": [
        "# Exploratory Data Analysis"
      ],
      "metadata": {
        "id": "L7VdeIc0JbNi"
      }
    },
    {
      "cell_type": "code",
      "source": [
        "# Getting know about the main charecteristics of the dataset"
      ],
      "metadata": {
        "id": "1jsCkSbev60t"
      },
      "execution_count": null,
      "outputs": []
    },
    {
      "cell_type": "code",
      "source": [
        "data.describe()"
      ],
      "metadata": {
        "id": "yhceD5g4wAL3"
      },
      "execution_count": null,
      "outputs": []
    },
    {
      "cell_type": "markdown",
      "source": [
        "### Data Visualization"
      ],
      "metadata": {
        "id": "cr3Z5J2-wRxR"
      }
    },
    {
      "cell_type": "markdown",
      "source": [
        "Analyzing Disturbution of height and weight and bmi of the students"
      ],
      "metadata": {
        "id": "0ho7gMfio2lA"
      }
    },
    {
      "cell_type": "code",
      "source": [
        "plt.figure(figsize=(20, 10))\n",
        "plt.subplot(1,3,1)\n",
        "plt.hist(data[['Weight']])\n",
        "plt.title('Disturbution of Weight')\n",
        "plt.xlabel('Weight')\n",
        "plt.ylabel('count')\n",
        "plt.subplot(1,3,2)\n",
        "plt.hist(data[['Height']],color='orange')\n",
        "plt.title('Disturbution of Height')\n",
        "plt.xlabel('Disturbution of Height')\n",
        "plt.subplot(1,3,3)\n",
        "plt.hist(data[['BMI']],color='Green')\n",
        "plt.title('Disturbution of BMI')"
      ],
      "metadata": {
        "id": "lHgwyltNLJpB"
      },
      "execution_count": null,
      "outputs": []
    },
    {
      "cell_type": "markdown",
      "source": [
        "Insights:---\n",
        "\n",
        "* Weights of More than 250 Students are Centered between 50-60\n",
        "* Heights of More than 350 students are centered between 150 to 165\n",
        "* More than 250 students are Falling under UnderWeight\n",
        "* More than 350 students are Falling Under Healthy Weight\n",
        "* More than 150 students are falling under overweight\n",
        "* less than 10 students are falling under Obesity"
      ],
      "metadata": {
        "id": "plI2KziNSe9U"
      }
    },
    {
      "cell_type": "code",
      "source": [
        "# Analyzing the Weight, Height and Bmi using Boxplots"
      ],
      "metadata": {
        "id": "XLm9Qq40xia8"
      },
      "execution_count": null,
      "outputs": []
    },
    {
      "cell_type": "code",
      "source": [
        "plt.figure(figsize=(20, 10))\n",
        "plt.subplot(1,3,1)\n",
        "plt.boxplot(data[['Weight']])\n",
        "plt.title('Disturbution of Weight')\n",
        "plt.xlabel('Weight')\n",
        "plt.ylabel('count')\n",
        "plt.subplot(1,3,2)\n",
        "plt.boxplot(data[['Height']])\n",
        "plt.title('Disturbution of Height')\n",
        "plt.xlabel('Disturbution of Height')\n",
        "plt.subplot(1,3,3)\n",
        "plt.boxplot(data[['BMI']])\n",
        "plt.title('Disturbution of BMI')"
      ],
      "metadata": {
        "id": "zOWipv-3WDsi"
      },
      "execution_count": null,
      "outputs": []
    },
    {
      "cell_type": "markdown",
      "source": [
        "Insights:-\n",
        "\n",
        "* BMI has an Some Points which are greater than 30 which denotes Obesity of a students\n",
        "* Two students have their height approximately 200 cm, they are the tallest persons in the university\n",
        "* There are only 3 students in the whole University have their weight more than 90kg"
      ],
      "metadata": {
        "id": "H5oC4g-lYh5S"
      }
    },
    {
      "cell_type": "code",
      "source": [
        "data.head(3)"
      ],
      "metadata": {
        "id": "7GowtTzdc7hh"
      },
      "execution_count": null,
      "outputs": []
    },
    {
      "cell_type": "markdown",
      "source": [
        "Analyzing the Quality of Education in the University"
      ],
      "metadata": {
        "id": "82va1ZA7ou5u"
      }
    },
    {
      "cell_type": "code",
      "source": [
        "# creating a pie chart for satisfaction of quality of education and Course_load,\tBacklogs? and Hostel_facilities"
      ],
      "metadata": {
        "id": "fxGvG0ycCIu3"
      },
      "execution_count": null,
      "outputs": []
    },
    {
      "cell_type": "code",
      "source": [
        "# creating labels and data for creating pie chart for Satisfied_qual_edu\n",
        "d_Satisfied_qual_edu = {}\n",
        "for i in data['Satisfied_qual_edu?'].unique():\n",
        "  d_Satisfied_qual_edu[i] = (data['Satisfied_qual_edu?']==i).sum()\n",
        "d_Satisfied_qual_edu\n",
        "Satisfied_qual_edu_values = []\n",
        "Satisfied_qual_edu_labels = []\n",
        "for i,j in d_Satisfied_qual_edu.items():\n",
        "  val = (j/data['Satisfied_qual_edu?'].count())*100\n",
        "  Satisfied_qual_edu_values.append(val)\n",
        "  Satisfied_qual_edu_labels.append(i)"
      ],
      "metadata": {
        "id": "lPNj4M8T-6NF"
      },
      "execution_count": null,
      "outputs": []
    },
    {
      "cell_type": "code",
      "source": [
        "# creating labels and data for creating pie chart for Course_load\n",
        "d_Course_load = {}\n",
        "values_course_load = []\n",
        "labels_course_load = []\n",
        "for i in data['Course_load'].unique():\n",
        "  d_Course_load[i] = (data['Course_load']==i).sum()\n",
        "for i,j in d_Course_load.items():\n",
        "  val = (j/data['Course_load'].count())*100\n",
        "  values_course_load.append(val)\n",
        "  labels_course_load.append(i)"
      ],
      "metadata": {
        "id": "BST2F_fKDJmh"
      },
      "execution_count": null,
      "outputs": []
    },
    {
      "cell_type": "code",
      "source": [
        "# creating labels and data for creating pie chart for Backlogs\n",
        "d_Backlogs = {}\n",
        "values_Backlogs = []\n",
        "labels_Backlogs = []\n",
        "for i in data['Backlogs?'].unique():\n",
        "  d_Backlogs[i] = (data['Backlogs?']==i).sum()\n",
        "for i,j in d_Backlogs.items():\n",
        "  val = (j/data['Backlogs?'].count())*100\n",
        "  values_Backlogs.append(val)\n",
        "  labels_Backlogs.append(i)"
      ],
      "metadata": {
        "id": "X9HSxwISEjf6"
      },
      "execution_count": null,
      "outputs": []
    },
    {
      "cell_type": "code",
      "source": [
        "data['Backlogs?'].value_counts()"
      ],
      "metadata": {
        "id": "G4ucerVHGSlU"
      },
      "execution_count": null,
      "outputs": []
    },
    {
      "cell_type": "code",
      "source": [
        "plt.figure(figsize=(15,5))\n",
        "plt.subplot(1,3,1)\n",
        "plt.pie(Satisfied_qual_edu_values,labels = Satisfied_qual_edu_labels,colors =['orange','yellow','green'],explode =(0.1, 0, 0), autopct='%1.1f%%',shadow=True)\n",
        "plt.title('Satisfaction of quality of eduaction')\n",
        "plt.subplot(1,3,2)\n",
        "plt.pie(values_Backlogs,labels = labels_Backlogs,colors =['Red','blue','green'],explode =(0.2, 0), autopct='%1.1f%%',shadow=True )\n",
        "plt.title('Backlogs Percentage')\n",
        "plt.subplot(1,3,3)\n",
        "plt.pie(values_course_load,labels = labels_course_load,colors =['Red','orange','green'],explode =(0.1, 0, 0,0,0), autopct='%1.1f%%', shadow=True,startangle=140 )\n",
        "plt.title('Course load')\n"
      ],
      "metadata": {
        "id": "RdUVOpxlAQRg"
      },
      "execution_count": null,
      "outputs": []
    },
    {
      "cell_type": "markdown",
      "source": [
        "Insights:-\n",
        "* 36% of students are not satisfied with the quality of the education which is a significiant remark in the quality of education of our university\n",
        "\n",
        "* More than 88.3% of students don't have Backlogs which shows students pass percentage is well\n",
        "* 64% of students are felling that the course load is Moderate 24.3% of students felling that the Course load is Hard"
      ],
      "metadata": {
        "id": "SqvmlLMTCTDP"
      }
    },
    {
      "cell_type": "code",
      "source": [
        "# Analyzing the University_facilities, Internet_impact,About_career"
      ],
      "metadata": {
        "id": "x_lJcNJaLdPy"
      },
      "execution_count": null,
      "outputs": []
    },
    {
      "cell_type": "code",
      "source": [
        "data['University_facilities']"
      ],
      "metadata": {
        "id": "TLA1Beg9zzKY"
      },
      "execution_count": null,
      "outputs": []
    },
    {
      "cell_type": "markdown",
      "source": [
        "Analyzing university Facilities"
      ],
      "metadata": {
        "id": "-QPxL1ZNonvU"
      }
    },
    {
      "cell_type": "code",
      "source": [
        "# creating x and y values for University facilities for creating bar chart\n",
        "x_University_facilities = []\n",
        "y_University_facilities = []\n",
        "d = {}\n",
        "for i in data['University_facilities'].unique():\n",
        "  d[i] = (data['University_facilities']==i).sum()\n",
        "for i,j in d.items():\n",
        "  x_University_facilities.append(i)\n",
        "  y_University_facilities.append(j)"
      ],
      "metadata": {
        "id": "wb1zmBieOfh2"
      },
      "execution_count": null,
      "outputs": []
    },
    {
      "cell_type": "code",
      "source": [
        "# creating x and y values for Internet Impact creating bar chart\n",
        "x_Internet_impact = []\n",
        "y_Internet_impact = []\n",
        "d = {}\n",
        "for i in data['Internet_impact'].unique():\n",
        "  d[i] = (data['Internet_impact']==i).sum()\n",
        "for i,j in d.items():\n",
        "  x_Internet_impact.append(i)\n",
        "  y_Internet_impact.append(j)"
      ],
      "metadata": {
        "id": "JbpwNMH9PYgW"
      },
      "execution_count": null,
      "outputs": []
    },
    {
      "cell_type": "code",
      "source": [
        "# creating x and y values for University Facilities creating bar chart\n",
        "x_About_career = []\n",
        "y_About_career = []\n",
        "d = {}\n",
        "for i in  data['About_career'].unique():\n",
        "  d[i] = ( data['About_career']==i).sum()\n",
        "for i,j in d.items():\n",
        "  x_About_career.append(i)\n",
        "  y_About_career.append(j)"
      ],
      "metadata": {
        "id": "qnaKtqnfP9qR"
      },
      "execution_count": null,
      "outputs": []
    },
    {
      "cell_type": "code",
      "source": [
        "# Creating a bar chart to analyze the university faciities, impact of internet,About the career"
      ],
      "metadata": {
        "id": "Dnn3q8SL0gms"
      },
      "execution_count": null,
      "outputs": []
    },
    {
      "cell_type": "code",
      "source": [
        "plt.figure(figsize=(15,5))\n",
        "plt.subplot(1,3,1)\n",
        "plt.bar(x_University_facilities,y_University_facilities,color='red')\n",
        "plt.title('University Facilities')\n",
        "plt.subplot(1,3,2)\n",
        "plt.bar(x_Internet_impact,y_Internet_impact,color = 'green')\n",
        "plt.title('Impact of Internet')\n",
        "plt.subplot(1,3,3)\n",
        "plt.bar(x_About_career,y_About_career,color = 'blue')\n",
        "plt.title('About Career')\n",
        "plt.show()"
      ],
      "metadata": {
        "id": "0VlGVCauQ2jJ"
      },
      "execution_count": null,
      "outputs": []
    },
    {
      "cell_type": "markdown",
      "source": [
        "Insights:-\n",
        "* More tham 400 students in the campus says that using Internet has Good Impact on their Life\n",
        "* More than 350 students are Confident about their career\n",
        "more than 300 students are confused about their career( This confused ratio of the students impacted more)\n",
        "* All most 300 students feel like they University Facilities are Fair\n",
        "and more than 250 students feels Good"
      ],
      "metadata": {
        "id": "5hQ_M34BT3VO"
      }
    },
    {
      "cell_type": "code",
      "source": [
        "# completed---"
      ],
      "metadata": {
        "id": "SkyB9fOdYV2C"
      },
      "execution_count": null,
      "outputs": []
    },
    {
      "cell_type": "code",
      "source": [
        "data['In_tough_emotional_situation?'].value_counts()"
      ],
      "metadata": {
        "id": "e-iOy7Y6Yf9i"
      },
      "execution_count": null,
      "outputs": []
    },
    {
      "cell_type": "code",
      "source": [
        "# 'Breakfast_skip_freq', 'Lunch_skip_freq', 'Snacks_skip_freq',  'Dinner_skip_freq'"
      ],
      "metadata": {
        "id": "fV8p_U8sVBM1"
      },
      "execution_count": null,
      "outputs": []
    },
    {
      "cell_type": "markdown",
      "source": [
        "Analyzing the food skip Frequencis per week"
      ],
      "metadata": {
        "id": "SFj-kc-noixf"
      }
    },
    {
      "cell_type": "code",
      "source": [
        "# creating data for Breakfast_skip_freq to create a pie chart\n",
        "d_Breakfast_skip_freq= {}\n",
        "values_Breakfast_skip_freq = []\n",
        "labels_Breakfast_skip_freq = []\n",
        "for i in data['Breakfast_skip_freq'].unique():\n",
        "  d_Breakfast_skip_freq[i] = (data['Breakfast_skip_freq']==i).sum()\n",
        "for i,j in d_Breakfast_skip_freq.items():\n",
        "  val = (j/data['Breakfast_skip_freq'].count())*100\n",
        "  values_Breakfast_skip_freq.append(val)\n",
        "  labels_Breakfast_skip_freq.append(i)\n",
        "# creating data for  Lunch_skip_freq to create a pie chart\n",
        "d_Lunch_skip_freq= {}\n",
        "values_Lunch_skip_freq = []\n",
        "labels_Lunch_skip_freq = []\n",
        "for i in data['Lunch_skip_freq'].unique():\n",
        "  d_Lunch_skip_freq[i] = (data['Lunch_skip_freq']==i).sum()\n",
        "for i,j in d_Lunch_skip_freq.items():\n",
        "  val = (j/data['Lunch_skip_freq'].count())*100\n",
        "  values_Lunch_skip_freq.append(val)\n",
        "  labels_Lunch_skip_freq.append(i)\n",
        "# creating data for Snacks_skip_freq to create a pie chart\n",
        "d_Snacks_skip_freq= {}\n",
        "values_Snacks_skip_freq = []\n",
        "labels_Snacks_skip_freq = []\n",
        "for i in data['Snacks_skip_freq'].unique():\n",
        "  d_Snacks_skip_freq[i] = (data['Snacks_skip_freq']==i).sum()\n",
        "for i,j in d_Snacks_skip_freq.items():\n",
        "  val = (j/data['Snacks_skip_freq'].count())*100\n",
        "  values_Snacks_skip_freq.append(val)\n",
        "  labels_Snacks_skip_freq.append(i)\n",
        "# creating data for Dinner SkiP Frequency to create a pie chart\n",
        "d_dinner_skip_freq= {}\n",
        "values_dinner_skip_freq = []\n",
        "labels_dinner_skip_freq = []\n",
        "for i in data['Dinner_skip_freq'].unique():\n",
        "  d_dinner_skip_freq[i] = (data['Dinner_skip_freq']==i).sum()\n",
        "for i,j in d_dinner_skip_freq.items():\n",
        "  val = (j/data['Dinner_skip_freq'].count())*100\n",
        "  values_dinner_skip_freq.append(val)\n",
        "  labels_dinner_skip_freq.append(i)"
      ],
      "metadata": {
        "id": "BZ9YLo7FazT9"
      },
      "execution_count": null,
      "outputs": []
    },
    {
      "cell_type": "code",
      "source": [
        "labels_Breakfast_skip_freq"
      ],
      "metadata": {
        "id": "KPfKfOLWjy0w"
      },
      "execution_count": null,
      "outputs": []
    },
    {
      "cell_type": "code",
      "source": [
        "plt.figure(figsize=(15,5))\n",
        "plt.subplot(1,4,1)\n",
        "plt.pie(values_Breakfast_skip_freq,labels = labels_Breakfast_skip_freq,colors =['orange','yellow','green'],explode =(0.1, 0,0, 0,0,0), autopct='%1.1f%%',shadow=True)\n",
        "plt.title('Breakfast skip frequency')\n",
        "plt.subplot(1,4,2)\n",
        "plt.pie(values_Lunch_skip_freq,labels = labels_Lunch_skip_freq,colors =['Red','blue','green'],explode =(0.2,0,0,0,0,0), autopct='%1.1f%%',shadow=True )\n",
        "plt.title('Lunch skip frequency')\n",
        "plt.subplot(1,4,3)\n",
        "plt.pie(values_Snacks_skip_freq,labels = labels_Snacks_skip_freq,colors =['Red','orange','green'],explode =(0.1, 0.2, 0,0,0,0), autopct='%1.1f%%', shadow=True,startangle=140 )\n",
        "plt.title('Snacks_skip_freq')\n",
        "plt.subplot(1,4,4)\n",
        "plt.pie(values_dinner_skip_freq,labels = labels_dinner_skip_freq,colors =['Red','orange','green'],explode =(0.1, 0.2, 0,0,0,0), autopct='%1.1f%%', shadow=True,startangle=140 )\n",
        "plt.title('Dinner Skipping Frequency')\n",
        "plt.show()"
      ],
      "metadata": {
        "id": "UGT5Wab6jT2e"
      },
      "execution_count": null,
      "outputs": []
    },
    {
      "cell_type": "markdown",
      "source": [
        "Insights for Food Skipping Frequency:-\n",
        "* 25% of Students Skipping Breakfast 2 times per week\n",
        "* 36% of students never skipping the lunch in a week\n",
        "* 40% of students skipping snacks 5+ times in a weel\n",
        "* 27% of the students never skipping dinner in a week and and only 5% of students skipping dinner 5+ times per week"
      ],
      "metadata": {
        "id": "g72drsTukdw2"
      }
    },
    {
      "cell_type": "code",
      "source": [
        "data.columns"
      ],
      "metadata": {
        "id": "hQQrPMve5RJK"
      },
      "execution_count": null,
      "outputs": []
    },
    {
      "cell_type": "markdown",
      "source": [
        "Analyzing university student statistics"
      ],
      "metadata": {
        "id": "9CZyrAPkoWa-"
      }
    },
    {
      "cell_type": "code",
      "source": [
        "# creating data for batch\n",
        "batch_labels = []\n",
        "batch_data = []\n",
        "batch = {}\n",
        "for i in data['Batch'].unique():\n",
        "  batch[i] = len(data[data['Batch']==i])\n",
        "for i,j in batch.items():\n",
        "  batch_labels.append(i)\n",
        "  val = (j/len(data))*100\n",
        "  batch_data.append(val)\n",
        "\n",
        "# creating data for labels\n",
        "branch_labels = []\n",
        "branch_data = []\n",
        "branch = {}\n",
        "for i in data['Branch'].unique():\n",
        "  branch[i] = len(data[data['Branch']==i])\n",
        "for i,j in branch.items():\n",
        "  branch_labels.append(i)\n",
        "  val = (j/len(data))*100\n",
        "  branch_data.append(val)\n",
        "\n",
        "# creating data for gender\n",
        "Gender_labels = []\n",
        "Gender_data = []\n",
        "Gender = {}\n",
        "for i in data['Gender'].unique():\n",
        "  Gender[i] = len(data[data['Gender']==i])\n",
        "for i,j in Gender.items():\n",
        "  Gender_labels.append(i)\n",
        "  val = (j/len(data))*100\n",
        "  Gender_data.append(val)"
      ],
      "metadata": {
        "id": "NQbuwbH25W7z"
      },
      "execution_count": null,
      "outputs": []
    },
    {
      "cell_type": "code",
      "source": [
        "# creating labels and data for creating pie charts of Batch,Branch,Gender"
      ],
      "metadata": {
        "id": "BaysEA-h7IKu"
      },
      "execution_count": null,
      "outputs": []
    },
    {
      "cell_type": "code",
      "source": [
        "plt.figure(figsize=(15,5))\n",
        "plt.subplot(1,3,1)\n",
        "plt.pie(batch_data,labels = batch_labels,colors =['orange','yellow','green'], autopct='%1.1f%%',shadow=True)\n",
        "plt.title('Batch')\n",
        "plt.subplot(1,3,2)\n",
        "plt.pie(branch_data,labels = branch_labels,colors =['Red','blue','green'], autopct='%1.1f%%',shadow=True )\n",
        "plt.title('Branch')\n",
        "plt.subplot(1,3,3)\n",
        "plt.pie(Gender_data,labels = Gender_labels,colors =['Red','orange','green'], autopct='%1.1f%%', shadow=True,startangle=140 )\n",
        "plt.title('Gender')\n",
        "plt.show()"
      ],
      "metadata": {
        "id": "zXiIoCwr7nKF"
      },
      "execution_count": null,
      "outputs": []
    },
    {
      "cell_type": "markdown",
      "source": [
        "Insights:-\n",
        "* Femal Students are more than the male students\n",
        "* most of 2018 and Cse batch students mostly filled this survey form"
      ],
      "metadata": {
        "id": "TycNQzrD8qdk"
      }
    },
    {
      "cell_type": "code",
      "source": [
        "# Branch, Batch,Gender\n",
        "# BMI,Height,Weight\n",
        "# 'Satisfied_qual_edu?', 'Course_load','Backlogs?',\n",
        "# 'Breakfast_skip_freq', 'Lunch_skip_freq', 'Snacks_skip_freq','Dinner_skip_freq'\n",
        "# 'University_facilities', 'Internet_impact ,'About_career'"
      ],
      "metadata": {
        "id": "CXf8FUfC9SjN"
      },
      "execution_count": null,
      "outputs": []
    },
    {
      "cell_type": "code",
      "source": [
        "data.columns"
      ],
      "metadata": {
        "id": "ci3y83leFzOV"
      },
      "execution_count": null,
      "outputs": []
    },
    {
      "cell_type": "code",
      "source": [
        "# 'Chosen_career_path?', 'Placement_preference', 'Higher_studies"
      ],
      "metadata": {
        "id": "sL0OGiUME7tn"
      },
      "execution_count": null,
      "outputs": []
    },
    {
      "cell_type": "markdown",
      "source": [
        "Analyzing the career preferences of the students"
      ],
      "metadata": {
        "id": "6l4ZheaeoMss"
      }
    },
    {
      "cell_type": "code",
      "source": [
        "# creating data for Placement_preference\n",
        "Placement_preference_labels = []\n",
        "Placement_preference_data = []\n",
        "Placement_preference = {}\n",
        "for i in data['Placement_preference'].unique():\n",
        "  Placement_preference[i] = len(data[data['Placement_preference']==i])\n",
        "for i,j in Placement_preference.items():\n",
        "  Placement_preference_labels.append(i)\n",
        "  val = (j/len(data))*100\n",
        "  Placement_preference_data.append(val)\n",
        "\n",
        "# creating data for Chose career path\n",
        "Chosen_career_path_labels = []\n",
        "Chosen_career_path_data = []\n",
        "Chosen_career_path = {}\n",
        "for i in data['Chosen_career_path?'].unique():\n",
        "  Chosen_career_path[i] = len(data[data['Chosen_career_path?']==i])\n",
        "for i,j in Chosen_career_path.items():\n",
        "  Chosen_career_path_labels.append(i)\n",
        "  val = (j/len(data))*100\n",
        "  Chosen_career_path_data.append(val)\n",
        "\n",
        "# creating data for Higher Studies\n",
        "Higher_studies_labels = []\n",
        "Higher_studies_data = []\n",
        "Higher_studies = {}\n",
        "for i in data['Higher_studies?'].unique():\n",
        "  Higher_studies[i] = len(data[data['Higher_studies?']==i])\n",
        "for i,j in Higher_studies.items():\n",
        "  Higher_studies_labels.append(i)\n",
        "  val = (j/len(data))*100\n",
        "  Higher_studies_data.append(val)"
      ],
      "metadata": {
        "id": "BPn8zgu7F8Da"
      },
      "execution_count": null,
      "outputs": []
    },
    {
      "cell_type": "code",
      "source": [
        "Higher_studies_labels"
      ],
      "metadata": {
        "id": "1T5SZ4oJIOnY"
      },
      "execution_count": null,
      "outputs": []
    },
    {
      "cell_type": "code",
      "source": [
        "# Creating Pieplots for placement Preference, Choosen_Career Path,Higher Studeis Labels"
      ],
      "metadata": {
        "id": "jHZ6qDo5Ih-a"
      },
      "execution_count": null,
      "outputs": []
    },
    {
      "cell_type": "code",
      "source": [
        "plt.figure(figsize=(15,5))\n",
        "plt.subplot(1,3,1)\n",
        "plt.pie(Placement_preference_data,labels = Placement_preference_labels,colors =['orange','yellow','green'],explode =(0.1, 0,0), autopct='%1.1f%%',shadow=True)\n",
        "plt.title('Placement Preference')\n",
        "plt.subplot(1,3,2)\n",
        "plt.pie(Chosen_career_path_data,labels = Chosen_career_path_labels,colors =['Red','blue','green'],explode =(0,0.2,0), autopct='%1.1f%%',shadow=True )\n",
        "plt.title('Chosen_career_path')\n",
        "plt.subplot(1,3,3)\n",
        "plt.pie(Higher_studies_data,labels = Higher_studies_labels,colors =['Red','orange','green'],explode =(0.1, 0.2, 0), autopct='%1.1f%%', shadow=True,startangle=140 )\n",
        "plt.title('Higher_studies_labels')\n",
        "plt.show()"
      ],
      "metadata": {
        "id": "GuIYXSxxG-t2"
      },
      "execution_count": null,
      "outputs": []
    },
    {
      "cell_type": "markdown",
      "source": [
        "Insights:-\n",
        "\n",
        "* More than 50% of the students preferring both on-campus and off-campus drives\n",
        "* More than 50% of the students has choosed their carrer path\n",
        "* 40 % of the students are in confused states to pursue Higher Studies"
      ],
      "metadata": {
        "id": "Ytjqd0UxIvYb"
      }
    },
    {
      "cell_type": "code",
      "source": [
        "# 'IP_skills_confidence_levels', 'English_proficiency',\n",
        "# 'Eng_lang_skills_improved?', 'Confidence_levels'"
      ],
      "metadata": {
        "id": "R2pwTflGJZ7I"
      },
      "execution_count": null,
      "outputs": []
    },
    {
      "cell_type": "code",
      "source": [
        "# creating x and y values for IP_skills_confidence_levels for creating bar chart\n",
        "x_IP_skills_confidence_levels = []\n",
        "y_IP_skills_confidence_levels = []\n",
        "IP_skills_confidence_levels= {}\n",
        "for i in data['IP_skills_confidence_levels'].unique():\n",
        "  IP_skills_confidence_levels[i] = (data['IP_skills_confidence_levels']==i).sum()\n",
        "for i,j in IP_skills_confidence_levels.items():\n",
        "  x_IP_skills_confidence_levels.append(i)\n",
        "  y_IP_skills_confidence_levels.append(j)\n",
        "\n",
        "# creating x and y values for English_proficiency for creating bar chart\n",
        "x_English_proficiency = []\n",
        "y_English_proficiency = []\n",
        "English_proficiency= {}\n",
        "for i in data['English_proficiency'].unique():\n",
        "  English_proficiency[i] = (data['English_proficiency']==i).sum()\n",
        "for i,j in English_proficiency.items():\n",
        "  x_English_proficiency.append(i)\n",
        "  y_English_proficiency.append(j)\n",
        "\n",
        "## creating x and y values for Eng_lang_skills_improved for creating bar chart\n",
        "x_Eng_lang_skills_improved = []\n",
        "y_Eng_lang_skills_improved = []\n",
        "Eng_lang_skills_improved= {}\n",
        "for i in data['Eng_lang_skills_improved?'].unique():\n",
        "  Eng_lang_skills_improved[i] = (data['Eng_lang_skills_improved?']==i).sum()\n",
        "for i,j in Eng_lang_skills_improved.items():\n",
        "  x_Eng_lang_skills_improved.append(i)\n",
        "  y_Eng_lang_skills_improved.append(j)\n",
        "\n",
        "## creating x and y values for Confidence_levels for creating bar chart\n",
        "x_Confidence_levels = []\n",
        "y_Confidence_levels = []\n",
        "Confidence_levels= {}\n",
        "for i in data['Confidence_levels'].unique():\n",
        "  Confidence_levels[i] = (data['Confidence_levels']==i).sum()\n",
        "for i,j in Confidence_levels.items():\n",
        "  x_Confidence_levels.append(i)\n",
        "  y_Confidence_levels.append(j)"
      ],
      "metadata": {
        "id": "4Sf6EFgULtJu"
      },
      "execution_count": null,
      "outputs": []
    },
    {
      "cell_type": "code",
      "source": [
        "# Analyzing the confidence level of the students using Barcharts"
      ],
      "metadata": {
        "id": "4JJOw8L7Opcn"
      },
      "execution_count": null,
      "outputs": []
    },
    {
      "cell_type": "code",
      "source": [
        "plt.figure(figsize=(15,5))\n",
        "plt.subplot(1,4,1)\n",
        "plt.bar(x_IP_skills_confidence_levels,y_IP_skills_confidence_levels,color='red')\n",
        "plt.title('IP_skills_confidence_levels Facilities')\n",
        "plt.subplot(1,4,2)\n",
        "plt.bar(x_English_proficiency,y_English_proficiency,color = 'green')\n",
        "plt.title('English_proficiency')\n",
        "plt.subplot(1,4,3)\n",
        "plt.bar(x_Eng_lang_skills_improved,y_Eng_lang_skills_improved,color = 'blue')\n",
        "plt.title('Eng_lang_skills_improved?')\n",
        "plt.subplot(1,4,4)\n",
        "plt.bar(x_Confidence_levels,y_Confidence_levels,color = 'orange')\n",
        "plt.title('Confidence_levels')\n",
        "plt.show()"
      ],
      "metadata": {
        "id": "0mrxtCPkNs5q"
      },
      "execution_count": null,
      "outputs": []
    },
    {
      "cell_type": "markdown",
      "source": [
        "Insights:-\n",
        "\n",
        "* More than 400 students feeling good at IP and Confidence skills\n",
        "* More than 350 studnts feeling good at their English Proficiency\n",
        "* More than 350 students English Communciation skills are improved after joining the university\n",
        "* After Joining the university More than 350 students confidence skills are increased and at same more than 150 students confidence skills are worsened this is critical insight"
      ],
      "metadata": {
        "id": "xjO9E5wFOxLr"
      }
    },
    {
      "cell_type": "markdown",
      "source": [
        "Relationships in college"
      ],
      "metadata": {
        "id": "1xbovEbUQTrK"
      }
    },
    {
      "cell_type": "code",
      "source": [
        "# 'In_relationship?','Relationship_effect'"
      ],
      "metadata": {
        "id": "6Vf2aGimQWwo"
      },
      "execution_count": null,
      "outputs": []
    },
    {
      "cell_type": "code",
      "source": [
        "# creating data for In_relationship\n",
        "In_relationship_labels = []\n",
        "In_relationship_data = []\n",
        "In_relationship = {}\n",
        "for i in data['In_relationship?'].unique():\n",
        "  In_relationship[i] = len(data[data['In_relationship?']==i])\n",
        "for i,j in In_relationship.items():\n",
        "  In_relationship_labels.append(i)\n",
        "  val = (j/len(data))*100\n",
        "  In_relationship_data.append(val)\n",
        "\n",
        "# creating data for Relationship_effect\n",
        "Relationship_effect_labels = []\n",
        "Relationship_effect_data = []\n",
        "Relationship_effect = {}\n",
        "for i in data['Relationship_effect'].unique():\n",
        "  Relationship_effect[i] = len(data[data['Relationship_effect']==i])\n",
        "for i,j in Relationship_effect.items():\n",
        "  Relationship_effect_labels.append(i)\n",
        "  val = (j/len(data))*100\n",
        "  Relationship_effect_data.append(val)"
      ],
      "metadata": {
        "id": "X1SE_tZLQY9j"
      },
      "execution_count": null,
      "outputs": []
    },
    {
      "cell_type": "markdown",
      "source": [
        "Analyzing the Relation ships"
      ],
      "metadata": {
        "id": "RNNFTmZboABQ"
      }
    },
    {
      "cell_type": "code",
      "source": [],
      "metadata": {
        "id": "ZTJ8SCPCRmSI"
      },
      "execution_count": null,
      "outputs": []
    },
    {
      "cell_type": "code",
      "source": [
        "plt.figure(figsize=(15,5))\n",
        "plt.subplot(1,3,1)\n",
        "plt.pie(In_relationship_data,labels = In_relationship_labels,colors =['orange','yellow','green'],explode =(0.1, 0,0), autopct='%1.1f%%',shadow=True)\n",
        "plt.title('In_relationship')\n",
        "plt.subplot(1,3,2)\n",
        "plt.pie(Relationship_effect_data,labels = Relationship_effect_labels,colors =['Red','blue','green'],explode =(0,0.2,0), autopct='%1.1f%%',shadow=True )\n",
        "plt.title('Relationship_effect')\n",
        "plt.show()"
      ],
      "metadata": {
        "id": "9P0nXw3MRlyc"
      },
      "execution_count": null,
      "outputs": []
    },
    {
      "cell_type": "markdown",
      "source": [
        "Insights:-\n",
        "* 81 percent of the students are not in relation ship with others and 10.6% students don't want to mention their relationships 7.6% percent students are in relation ship\n",
        "* 29% percent of students says realtionship with others has negative impact and more 50% students says it has no impact"
      ],
      "metadata": {
        "id": "KQ5FXWoYR7ib"
      }
    },
    {
      "cell_type": "markdown",
      "source": [
        "Analyzing the Health of the Students"
      ],
      "metadata": {
        "id": "GnKjDt0zUBef"
      }
    },
    {
      "cell_type": "code",
      "source": [
        "# 'Sleep_quality-pie','Under_medication?-pie',\n",
        "# 'Sleep_duration-bar','Weekly_exercising_freq?--bar\n",
        "# 'Screen_time-bar',  'Health_checkup_freq-bar'"
      ],
      "metadata": {
        "id": "YOfsrXxLTYyj"
      },
      "execution_count": null,
      "outputs": []
    },
    {
      "cell_type": "code",
      "source": [
        "# creating x and y values for Sleep_duration for creating bar chart\n",
        "x_Sleep_duration = []\n",
        "y_Sleep_duration = []\n",
        "Sleep_duration= {}\n",
        "for i in data['Sleep_duration'].unique():\n",
        "  Sleep_duration[i] = (data['Sleep_duration']==i).sum()\n",
        "for i,j in Sleep_duration.items():\n",
        "  x_Sleep_duration.append(i)\n",
        "  y_Sleep_duration.append(j)\n",
        "\n",
        "# creating x and y values for Weekly_exercising_freq for creating bar chart\n",
        "x_Weekly_exercising_freq = []\n",
        "y_Weekly_exercising_freq = []\n",
        "Weekly_exercising_freq= {}\n",
        "for i in data['Weekly_exercising_freq?'].unique():\n",
        "  Weekly_exercising_freq[i] = (data['Weekly_exercising_freq?']==i).sum()\n",
        "for i,j in Weekly_exercising_freq.items():\n",
        "  x_Weekly_exercising_freq.append(i)\n",
        "  y_Weekly_exercising_freq.append(j)\n",
        "\n",
        "## creating x and y values for Screen_time for creating bar chart\n",
        "x_Screen_time = []\n",
        "y_Screen_time = []\n",
        "Screen_time= {}\n",
        "for i in data['Screen_time'].unique():\n",
        "  Screen_time[i] = (data['Screen_time']==i).sum()\n",
        "for i,j in Screen_time.items():\n",
        "  x_Screen_time.append(i)\n",
        "  y_Screen_time.append(j)"
      ],
      "metadata": {
        "id": "9UwPe6JfSq4U"
      },
      "execution_count": null,
      "outputs": []
    },
    {
      "cell_type": "code",
      "source": [
        "# Analyzing Health activity of students"
      ],
      "metadata": {
        "id": "6919PYQuXh0z"
      },
      "execution_count": null,
      "outputs": []
    },
    {
      "cell_type": "code",
      "source": [
        "plt.figure(figsize=(15,5))\n",
        "plt.subplot(1,4,1)\n",
        "plt.bar(x_Sleep_duration,y_Sleep_duration,color='red')\n",
        "plt.title('Sleep_duration')\n",
        "plt.subplot(1,4,2)\n",
        "plt.bar(x_Weekly_exercising_freq,y_Weekly_exercising_freq,color = 'green')\n",
        "plt.title('Weekly_exercising_freq')\n",
        "plt.subplot(1,4,3)\n",
        "plt.bar(x_Screen_time,y_Screen_time,color = 'blue')\n",
        "plt.title('Screen_time')\n",
        "plt.show()"
      ],
      "metadata": {
        "id": "zKxvsWLTXlzv"
      },
      "execution_count": null,
      "outputs": []
    },
    {
      "cell_type": "markdown",
      "source": [
        "Insights:-\n",
        "* More than 500 students sleeping 9+ hours in every day\n",
        "* More than 350 students never going excercise in a week\n",
        "* More than 400 students viewing electronic screens 6 hours per day"
      ],
      "metadata": {
        "id": "UM-TyDWFZJMV"
      }
    },
    {
      "cell_type": "code",
      "source": [
        "# Health checkup Frequency\n",
        "## creating x and y values for Health_checkup_freq for creating bar chart\n",
        "x_Health_checkup_freq = []\n",
        "y_Health_checkup_freq = []\n",
        "Health_checkup_freq= {}\n",
        "for i in data['Health_checkup_freq'].unique():\n",
        "  Health_checkup_freq[i] = (data['Health_checkup_freq']==i).sum()\n",
        "for i,j in Health_checkup_freq.items():\n",
        "  x_Health_checkup_freq.append(i)\n",
        "  y_Health_checkup_freq.append(j)\n",
        "\n",
        "# Creating a bar chart\n",
        "plt.figure(figsize=(15,5))\n",
        "plt.bar(x_Health_checkup_freq,y_Health_checkup_freq,color = 'orange')\n",
        "plt.title('Screen_time')\n",
        "plt.show()"
      ],
      "metadata": {
        "id": "pjHUYLbQYmgX"
      },
      "execution_count": null,
      "outputs": []
    },
    {
      "cell_type": "markdown",
      "source": [
        "Insights:-\n",
        "* More than 500 students going to health checkup  only when need arises\n"
      ],
      "metadata": {
        "id": "sXOBv7DBY7nn"
      }
    },
    {
      "cell_type": "code",
      "source": [
        "# creating data for  Sleep_quality\n",
        "Sleep_quality_pie_labels = []\n",
        "Sleep_quality_pie_data = []\n",
        "Sleep_quality_pie = {}\n",
        "for i in data['Sleep_quality'].unique():\n",
        "  Sleep_quality_pie[i] = len(data[data['Sleep_quality']==i])\n",
        "for i,j in Sleep_quality_pie.items():\n",
        "  Sleep_quality_pie_labels.append(i)\n",
        "  val = (j/len(data))*100\n",
        "  Sleep_quality_pie_data.append(val)\n",
        "\n",
        "# creating data for Under_medication?\n",
        "Under_medication_labels = []\n",
        "Under_medication_data = []\n",
        "Under_medication = {}\n",
        "for i in data['Under_medication?'].unique():\n",
        "  Under_medication[i] = len(data[data['Under_medication?']==i])\n",
        "for i,j in Under_medication.items():\n",
        "  Under_medication_labels.append(i)\n",
        "  val = (j/len(data))*100\n",
        "  Under_medication_data.append(val)"
      ],
      "metadata": {
        "id": "rZo_N8kuaDw8"
      },
      "execution_count": null,
      "outputs": []
    },
    {
      "cell_type": "code",
      "source": [
        "Under_medication_labels"
      ],
      "metadata": {
        "id": "azRbed7fbPti"
      },
      "execution_count": null,
      "outputs": []
    },
    {
      "cell_type": "code",
      "source": [
        "plt.figure(figsize=(15,5))\n",
        "plt.subplot(1,3,1)\n",
        "plt.pie(Sleep_quality_pie_data,labels = Sleep_quality_pie_labels,colors =['orange','yellow','green'],explode =(0.1, 0,0.1,0,0), autopct='%1.1f%%',shadow=True)\n",
        "plt.title('Sleep_quality')\n",
        "plt.subplot(1,3,2)\n",
        "plt.pie(Under_medication_data,labels = Under_medication_labels,colors =['Red','blue','green'],explode =(0,0.2), autopct='%1.1f%%',shadow=True )\n",
        "plt.title('Under_medication')\n",
        "plt.show()"
      ],
      "metadata": {
        "id": "8VQOAf6La3uf"
      },
      "execution_count": null,
      "outputs": []
    },
    {
      "cell_type": "markdown",
      "source": [
        "Insights:-\n",
        "* 50 percent of students beleiving that their sleep quality is good\n",
        "* 84% students taking no medication"
      ],
      "metadata": {
        "id": "SZjDl4Q7bhBS"
      }
    },
    {
      "cell_type": "code",
      "source": [
        "# creating data for  Physical_health\n",
        "Physical_health_labels = []\n",
        "Physical_health_data = []\n",
        "Physical_health = {}\n",
        "for i in data['Physical_health'].unique():\n",
        "  Physical_health[i] = len(data[data['Physical_health']==i])\n",
        "for i,j in Physical_health.items():\n",
        "  Physical_health_labels.append(i)\n",
        "  val = (j/len(data))*100\n",
        "  Physical_health_data.append(val)\n",
        "\n",
        "# creating data for Mental_health\n",
        "Mental_health_labels = []\n",
        "Mental_health_data = []\n",
        "Mental_health = {}\n",
        "for i in data['Mental_health'].unique():\n",
        "  Mental_health[i] = len(data[data['Mental_health']==i])\n",
        "for i,j in Mental_health.items():\n",
        "  Mental_health_labels.append(i)\n",
        "  val = (j/len(data))*100\n",
        "  Mental_health_data.append(val)\n"
      ],
      "metadata": {
        "id": "iycdg9bhb86Q"
      },
      "execution_count": null,
      "outputs": []
    },
    {
      "cell_type": "code",
      "source": [
        "Physical_health_labels"
      ],
      "metadata": {
        "id": "ZBJC4nE-cpsU"
      },
      "execution_count": null,
      "outputs": []
    },
    {
      "cell_type": "code",
      "source": [
        "data['Mental_health'].value_counts()"
      ],
      "metadata": {
        "id": "jmQpih1vdES1"
      },
      "execution_count": null,
      "outputs": []
    },
    {
      "cell_type": "markdown",
      "source": [
        "Analyzing the health of the students"
      ],
      "metadata": {
        "id": "OLTKr1FWn3jU"
      }
    },
    {
      "cell_type": "code",
      "source": [
        "plt.figure(figsize=(15,5))\n",
        "plt.subplot(1,3,1)\n",
        "plt.pie(Physical_health_data,labels = Physical_health_labels,colors =['orange','yellow','green'],explode =(0.1, 0,0.1,0,0), autopct='%1.1f%%',shadow=True)\n",
        "plt.title('Physical_health')\n",
        "plt.subplot(1,3,2)\n",
        "plt.pie(Mental_health_data,labels = Mental_health_labels,colors =['Red','blue','green'],explode =(0,0.2,0,0,0), autopct='%1.1f%%',shadow=True )\n",
        "plt.title('Mental_health')\n",
        "plt.show()"
      ],
      "metadata": {
        "id": "aE7i-A2Tccxr"
      },
      "execution_count": null,
      "outputs": []
    },
    {
      "cell_type": "markdown",
      "source": [
        "Insights:-\n",
        "* 37% of the students are good at physical health and 9% members feeling their health is excellent\n",
        "* 37% of the students are good at their mental health and 10% of students feeling their mental health is excellent"
      ],
      "metadata": {
        "id": "iX0uVy0Pcwfg"
      }
    },
    {
      "cell_type": "markdown",
      "source": [
        "Analyzing the Mood of the Students"
      ],
      "metadata": {
        "id": "q5AT55PHnwyS"
      }
    },
    {
      "cell_type": "code",
      "source": [
        "# creating x and y values for Calm_peaceful for creating bar chart\n",
        "x_Calm_peaceful = []\n",
        "y_Calm_peaceful = []\n",
        "Calm_peaceful= {}\n",
        "for i in data['Calm_peaceful'].unique():\n",
        "  Calm_peaceful[i] = (data['Calm_peaceful']==i).sum()\n",
        "for i,j in Calm_peaceful.items():\n",
        "  x_Calm_peaceful.append(i)\n",
        "  y_Calm_peaceful.append(j)\n",
        "\n",
        "# creating x and y values for Gloomy for creating bar chart\n",
        "x_Gloomy = []\n",
        "y_Gloomy = []\n",
        "Gloomy= {}\n",
        "for i in data['Gloomy'].unique():\n",
        "  Gloomy[i] = (data['Gloomy']==i).sum()\n",
        "for i,j in Gloomy.items():\n",
        "  x_Gloomy.append(i)\n",
        "  y_Gloomy.append(j)\n",
        "\n",
        "## creating x and y values for Energetic for creating bar chart\n",
        "x_Energetic = []\n",
        "y_Energetic = []\n",
        "Energetic= {}\n",
        "for i in data['Energetic'].unique():\n",
        "  Energetic[i] = (data['Energetic']==i).sum()\n",
        "for i,j in Energetic.items():\n",
        "  x_Energetic.append(i)\n",
        "  y_Energetic.append(j)\n",
        "\n",
        "## creating x and y values for Angry for creating bar chart\n",
        "x_Angry = []\n",
        "y_Angry = []\n",
        "Angry= {}\n",
        "for i in data['Angry'].unique():\n",
        "  Angry[i] = (data['Angry']==i).sum()\n",
        "for i,j in Angry.items():\n",
        "  x_Angry.append(i)\n",
        "  y_Angry.append(j)"
      ],
      "metadata": {
        "id": "reAnNebvfvqw"
      },
      "execution_count": null,
      "outputs": []
    },
    {
      "cell_type": "code",
      "source": [
        "plt.figure(figsize=(15,5))\n",
        "plt.subplot(1,4,1)\n",
        "plt.bar(x_Calm_peaceful,y_Calm_peaceful,color='red')\n",
        "plt.title('Calm_peaceful')\n",
        "plt.subplot(1,4,2)\n",
        "plt.bar(x_Gloomy,y_Gloomy,color = 'green')\n",
        "plt.title('Gloomy')\n",
        "plt.subplot(1,4,3)\n",
        "plt.bar(x_Gloomy,y_Gloomy,color = 'blue')\n",
        "plt.title('Angry')\n",
        "plt.subplot(1,4,4)\n",
        "plt.bar(x_Energetic,y_Energetic,color = 'orange')\n",
        "plt.title('Energetic')\n",
        "plt.show()"
      ],
      "metadata": {
        "id": "EUoDEGs2gykL"
      },
      "execution_count": null,
      "outputs": []
    },
    {
      "cell_type": "markdown",
      "source": [
        "Insights:-\n",
        "* More than 400 students feels Angry and Gloomy(Felling Low) once a while and more than 100 students never feel gloomy/angry\n",
        "* More than 300 students feel Energitic Most of the time\n",
        "* More than 250 students stay calm and peaceful most of the time"
      ],
      "metadata": {
        "id": "0hnO_kEChNHC"
      }
    },
    {
      "cell_type": "code",
      "source": [
        "data.columns"
      ],
      "metadata": {
        "id": "2vdN3KI6jR-k"
      },
      "execution_count": null,
      "outputs": []
    },
    {
      "cell_type": "markdown",
      "source": [
        "Analyzing the Student Situation and student Participation"
      ],
      "metadata": {
        "id": "uiQ0mA5pnmlv"
      }
    },
    {
      "cell_type": "code",
      "source": [
        "# Analyzing 'Member_of_something?', 'In_sports?','Was_really_happy',In_tough_emotional_situation"
      ],
      "metadata": {
        "id": "iDBSdvT_iVJ0"
      },
      "execution_count": null,
      "outputs": []
    },
    {
      "cell_type": "code",
      "source": [
        "# creating data for Member_of_something to create a pie chart\n",
        "Member_of_something= {}\n",
        "values_Member_of_something = []\n",
        "labels_Member_of_something = []\n",
        "for i in data['Member_of_something?'].unique():\n",
        "  Member_of_something[i] = (data['Member_of_something?']==i).sum()\n",
        "for i,j in Member_of_something.items():\n",
        "  val = (j/data['Member_of_something?'].count())*100\n",
        "  values_Member_of_something.append(val)\n",
        "  labels_Member_of_something.append(i)\n",
        "# creating data for  In_sports to create a pie chart\n",
        "In_sports= {}\n",
        "values_In_sports = []\n",
        "labels_In_sports = []\n",
        "for i in data['In_sports?'].unique():\n",
        "  In_sports[i] = (data['In_sports?']==i).sum()\n",
        "for i,j in In_sports.items():\n",
        "  val = (j/data['In_sports?'].count())*100\n",
        "  values_In_sports.append(val)\n",
        "  labels_In_sports.append(i)\n",
        "# creating data for Was_really_happy to create a pie chart\n",
        "Was_really_happy= {}\n",
        "values_Was_really_happy = []\n",
        "labels_Was_really_happy = []\n",
        "for i in data['Was_really_happy'].unique():\n",
        "  Was_really_happy[i] = (data['Was_really_happy']==i).sum()\n",
        "for i,j in Was_really_happy.items():\n",
        "  val = (j/data['Was_really_happy'].count())*100\n",
        "  values_Was_really_happy.append(val)\n",
        "  labels_Was_really_happy.append(i)\n",
        "# creating data for In_tough_emotional_situation to create a pie chart\n",
        "In_tough_emotional_situation= {}\n",
        "values_In_tough_emotional_situation = []\n",
        "labels_In_tough_emotional_situation = []\n",
        "for i in data['In_tough_emotional_situation?'].unique():\n",
        "  In_tough_emotional_situation[i] = (data['In_tough_emotional_situation?']==i).sum()\n",
        "for i,j in In_tough_emotional_situation.items():\n",
        "  val = (j/data['In_tough_emotional_situation?'].count())*100\n",
        "  values_In_tough_emotional_situation.append(val)\n",
        "  labels_In_tough_emotional_situation.append(i)"
      ],
      "metadata": {
        "id": "ye9Jx5LLi8Jz"
      },
      "execution_count": null,
      "outputs": []
    },
    {
      "cell_type": "code",
      "source": [
        "labels_Was_really_happy"
      ],
      "metadata": {
        "id": "akKtiwYNmQ7I"
      },
      "execution_count": null,
      "outputs": []
    },
    {
      "cell_type": "code",
      "source": [
        "plt.figure(figsize=(15,5))\n",
        "plt.subplot(1,4,1)\n",
        "plt.pie(values_Member_of_something,labels = labels_Member_of_something,colors =['orange','yellow','green'],explode =(0.1, 0,0), autopct='%1.1f%%',shadow=True)\n",
        "plt.title('Member_of_something')\n",
        "plt.subplot(1,4,2)\n",
        "plt.pie(values_In_sports,labels = labels_In_sports,colors =['Red','blue','green'],explode =(0.2,0,0), autopct='%1.1f%%',shadow=True )\n",
        "plt.title('In_sports')\n",
        "plt.subplot(1,4,3)\n",
        "plt.pie(values_Was_really_happy,labels = labels_Was_really_happy,colors =['Red','orange','green'],explode =(0.1, 0.2, 0,0,0), autopct='%1.1f%%', shadow=True,startangle=140 )\n",
        "plt.title('Was_really_happy')\n",
        "plt.subplot(1,4,4)\n",
        "plt.pie(values_In_tough_emotional_situation,labels = labels_In_tough_emotional_situation,colors =['Red','orange','green'],explode =(0.1, 0.2, 0), autopct='%1.1f%%', shadow=True,startangle=140 )\n",
        "plt.title('In_tough_emotional_situation')\n",
        "plt.show()"
      ],
      "metadata": {
        "id": "CtpW4bwglvcq"
      },
      "execution_count": null,
      "outputs": []
    },
    {
      "cell_type": "markdown",
      "source": [
        "Insights:-\n",
        "* 71% od the students are not the members of any colege clubs/ Ngo's this shows students are not intersted to participation\n",
        "* 67% of students didn't participate in sports and 20% of students actively participationg in sports\n",
        "* 43% of students are happy few days ago and 20% of students are really happy in months and years ago\n",
        "* 27% of the students are in tough and emotional situation and 48% of students are not  In_tough_emotional_situation"
      ],
      "metadata": {
        "id": "vwiZmKZBmkgm"
      }
    }
  ]
}